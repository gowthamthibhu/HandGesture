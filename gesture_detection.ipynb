{
 "cells": [
  {
   "cell_type": "code",
   "execution_count": 8,
   "metadata": {},
   "outputs": [],
   "source": [
    "import os\n",
    "import cv2\n",
    "import numpy as np\n",
    "from sklearn.preprocessing import LabelEncoder\n",
    "from tensorflow.keras.utils import to_categorical"
   ]
  },
  {
   "cell_type": "code",
   "execution_count": 9,
   "metadata": {},
   "outputs": [],
   "source": [
    "dataset_path = r'C:\\Users\\gowth\\OneDrive\\Desktop\\HandGesture\\leapGestRecog'  \n",
    "\n",
    "image_size = (128, 126)  \n",
    "num_channels = 1\n"
   ]
  },
  {
   "cell_type": "code",
   "execution_count": 10,
   "metadata": {},
   "outputs": [],
   "source": [
    "images = []\n",
    "labels = []\n",
    "\n",
    "for top_folder in os.listdir(dataset_path):\n",
    "    top_folder_path = os.path.join(dataset_path, top_folder)\n",
    "    if os.path.isdir(top_folder_path):  \n",
    "        for gesture_label in os.listdir(top_folder_path):\n",
    "            gesture_path = os.path.join(top_folder_path, gesture_label)\n",
    "            if os.path.isdir(gesture_path):  \n",
    "                for image_name in os.listdir(gesture_path):\n",
    "                    image_path = os.path.join(gesture_path, image_name)\n",
    "                    image = cv2.imread(image_path)\n",
    "\n",
    "                    if num_channels == 1:\n",
    "                        image = cv2.cvtColor(image, cv2.COLOR_BGR2GRAY)\n",
    "\n",
    "                    image = cv2.resize(image, image_size)\n",
    "\n",
    "                    image = image / 255.0\n",
    "\n",
    "                    images.append(image)\n",
    "                    labels.append(gesture_label)\n",
    "\n",
    "images = np.array(images)\n",
    "labels = np.array(labels)\n",
    "\n",
    "if num_channels == 1:\n",
    "    images = np.expand_dims(images, axis=-1)"
   ]
  },
  {
   "cell_type": "code",
   "execution_count": 11,
   "metadata": {},
   "outputs": [
    {
     "name": "stdout",
     "output_type": "stream",
     "text": [
      "Images shape: (20000, 126, 128, 1)\n",
      "Labels shape: (20000, 10)\n"
     ]
    }
   ],
   "source": [
    "label_encoder = LabelEncoder()\n",
    "labels_encoded = label_encoder.fit_transform(labels)\n",
    "\n",
    "labels_categorical = to_categorical(labels_encoded, num_classes=len(np.unique(labels_encoded)))\n",
    "\n",
    "print(\"Images shape:\", images.shape)\n",
    "print(\"Labels shape:\", labels_categorical.shape)"
   ]
  },
  {
   "cell_type": "code",
   "execution_count": null,
   "metadata": {},
   "outputs": [],
   "source": []
  }
 ],
 "metadata": {
  "kernelspec": {
   "display_name": "Python 3",
   "language": "python",
   "name": "python3"
  },
  "language_info": {
   "codemirror_mode": {
    "name": "ipython",
    "version": 3
   },
   "file_extension": ".py",
   "mimetype": "text/x-python",
   "name": "python",
   "nbconvert_exporter": "python",
   "pygments_lexer": "ipython3",
   "version": "3.12.4"
  },
  "orig_nbformat": 4,
  "vscode": {
   "interpreter": {
    "hash": "3fcbd7240ee8f908d933dc7f71e8c42a1a91163b70ede8dcff5146d4087436c7"
   }
  }
 },
 "nbformat": 4,
 "nbformat_minor": 2
}
